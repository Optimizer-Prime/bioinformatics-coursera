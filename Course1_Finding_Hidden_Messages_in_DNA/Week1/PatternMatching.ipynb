{
 "cells": [
  {
   "cell_type": "code",
   "execution_count": 107,
   "id": "c8600da4-acd7-4298-b908-440d64ea97e9",
   "metadata": {},
   "outputs": [],
   "source": [
    "def PatternMatching(genome, pattern):\n",
    "    \"\"\"Returns all zero-based indicies for matching overlapping pattern in genome.\"\"\"\n",
    "    # determine length of input genome and pattern\n",
    "    genome_len = len(genome)\n",
    "    patt_len = len(pattern)\n",
    "    \n",
    "    # create empty list to store zero-based indexes of matching patterns in genome\n",
    "    genome_idx = []\n",
    "    \n",
    "    # find all overlapping matches and add index to list   \n",
    "    for idx in range(0, genome_len-patt_len+1):\n",
    "        if genome[idx:idx+patt_len] == pattern:\n",
    "            genome_idx.append(idx)\n",
    "    \n",
    "    # use * to unpack list into individual values\n",
    "    unpacked = print(*genome_idx)\n",
    "            \n",
    "    return unpacked"
   ]
  },
  {
   "cell_type": "code",
   "execution_count": 108,
   "id": "caed8e33-91b1-420f-80f5-1a0481f2c0fc",
   "metadata": {},
   "outputs": [],
   "source": [
    "text_file = open('dataset_3_5.txt', 'r')\n",
    "text = text_file.readlines()\n",
    "pattern = text[0]\n",
    "genome = text[1]"
   ]
  },
  {
   "cell_type": "code",
   "execution_count": 109,
   "id": "6cc3dc03-4fb2-4da5-872e-9a2fff317896",
   "metadata": {},
   "outputs": [
    {
     "name": "stdout",
     "output_type": "stream",
     "text": [
      "16 23 30 87 113 120 138 153 194 263 290 313 320 356 424 449 456 472 638 657 723 782 853 982 1030 1037 1044 1051 1110 1117 1124 1188 1211 1218 1277 1322 1329 1343 1426 1445 1527 1534 1541 1601 1618 1636 1646 1727 1734 1770 1886 1929 1944 1951 1958 1973 2083 2098 2144 2151 2158 2174 2255 2333 2371 2378 2510 2550 2566 2581 2611 2618 2669 2676 2702 2709 2716 2735 2779 2812 2829 2836 2843 2862 2922 2929 2964 3002 3020 3036 3052 3085 3209 3225 3240 3275 3297 3339 3346 3353 3360 3409 3428 3529 3552 3587 3594 3619 3626 3655 3671 3686 3745 3752 3759 3903 3963 4045 4069 4129 4144 4151 4213 4247 4263 4330 4356 4417 4489 4562 4585 4592 4601 4639 4646 4653 4660 4694 4740 4765 4864 4882 4889 4934 4941 4948 4964 4990 5045 5062 5069 5093 5110 5117 5124 5158 5227 5244 5298 5357 5366 5414 5436 5443 5499 5597 5643 5697 5704 5715 5806 5852 5884 5930 5949 5956 6028 6053 6079 6086 6140 6167 6174 6181 6205 6222 6279 6286 6305 6333 6402 6409 6416 6458 6481 6570 6696 6716 6731 6826 6866 6883 6950 6967 6996 7003 7066 7084 7115 7134 7168 7228 7235 7242 7249 7275 7294 7312 7357 7378 7385 7459 7466 7501 7508 7515 7607 7669 7676 7717 7724 7774 7793 7868 7911 7937 7944 8009 8029 8103 8119 8157 8164 8171 8253 8306 8334 8341 8408 8415 8445 8478 8539 8584 8611 8635 8642 8695 8719 8746 8753 8768 8799 8840 8869 8887 8896 8940 8957 9001 9008 9015 9046 9053 9086\n"
     ]
    }
   ],
   "source": [
    "# reading from file as above only works when manually entering the pattern.\n",
    "# when using the pattern defined above, it only returns the last matching index, not sure why\n",
    "PatternMatching(genome, 'GTTTTCCGT')"
   ]
  },
  {
   "cell_type": "markdown",
   "id": "30ff6dac-dc4b-4eec-9801-07131f5a39af",
   "metadata": {},
   "source": [
    "# Applying PatternMatching function to Vibrio cholerae genome"
   ]
  },
  {
   "cell_type": "code",
   "execution_count": 110,
   "id": "04e8130a-6f4e-47fa-80b4-6b87d46b4f1c",
   "metadata": {},
   "outputs": [],
   "source": [
    "vibrio_text = open('Vibrio_cholerae.txt', 'r')\n",
    "vibrio = vibrio_text.readline()"
   ]
  },
  {
   "cell_type": "code",
   "execution_count": 111,
   "id": "c4f59e97-3aeb-4568-a839-dfa83c807ff6",
   "metadata": {},
   "outputs": [
    {
     "name": "stdout",
     "output_type": "stream",
     "text": [
      "60039 98409 129189 152283 152354 152411 163207 197028 200160 357976 376771 392723 532935 600085 622755 1065555\n"
     ]
    }
   ],
   "source": [
    "PatternMatching(vibrio, 'CTTGATCAT')"
   ]
  },
  {
   "cell_type": "markdown",
   "id": "5a54c9ca-589b-4cdc-9976-ca4a121465ae",
   "metadata": {},
   "source": [
    "Trying sequence given in the course against the vibrio genome."
   ]
  },
  {
   "cell_type": "code",
   "execution_count": 112,
   "id": "28ed7c66-3ff9-4771-a606-84df0cf5b8d3",
   "metadata": {},
   "outputs": [
    {
     "name": "stdout",
     "output_type": "stream",
     "text": [
      "116556 149355 151913 152013 152394 186189 194276 200076 224527 307692 479770 610980 653338 679985 768828 878903 985368\n"
     ]
    }
   ],
   "source": [
    "PatternMatching(vibrio, 'ATGATCAAG')"
   ]
  },
  {
   "cell_type": "markdown",
   "id": "0791d5d6-4cdf-4739-aa3b-1a94104f6f84",
   "metadata": {},
   "source": [
    "We get the same results as the class."
   ]
  },
  {
   "cell_type": "code",
   "execution_count": null,
   "id": "e1c1b4ff-f735-436f-8536-f1a985666079",
   "metadata": {},
   "outputs": [],
   "source": []
  }
 ],
 "metadata": {
  "kernelspec": {
   "display_name": "Python [conda env:bioinformatics]",
   "language": "python",
   "name": "conda-env-bioinformatics-py"
  },
  "language_info": {
   "codemirror_mode": {
    "name": "ipython",
    "version": 3
   },
   "file_extension": ".py",
   "mimetype": "text/x-python",
   "name": "python",
   "nbconvert_exporter": "python",
   "pygments_lexer": "ipython3",
   "version": "3.6.13"
  }
 },
 "nbformat": 4,
 "nbformat_minor": 5
}
