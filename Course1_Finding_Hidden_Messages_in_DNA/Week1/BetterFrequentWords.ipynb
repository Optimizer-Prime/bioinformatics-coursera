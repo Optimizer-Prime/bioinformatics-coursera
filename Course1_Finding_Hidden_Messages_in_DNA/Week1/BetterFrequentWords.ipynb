{
 "cells": [
  {
   "cell_type": "markdown",
   "id": "429c70e4-f932-41c6-bf63-18804a760dfc",
   "metadata": {},
   "source": [
    "# Pseudocode for the functions"
   ]
  },
  {
   "cell_type": "code",
   "execution_count": 2,
   "id": "d2d42c16-5fe6-4d4f-8b2b-bf9e12c89745",
   "metadata": {},
   "outputs": [],
   "source": [
    "# FrequentWords(Text, k)\n",
    "#     FrequentPatterns ← an empty set\n",
    "#     for i ← 0 to |Text| − k\n",
    "#         Pattern ← the k-mer Text(i, k)\n",
    "#         Count(i) ← PatternCount(Text, Pattern)\n",
    "#     maxCount ← maximum value in array Count\n",
    "#     for i ← 0 to |Text| − k\n",
    "#         if Count(i) = maxCount\n",
    "#             add Text(i, k) to FrequentPatterns\n",
    "#     remove duplicates from FrequentPatterns\n",
    "#     return FrequentPatterns"
   ]
  },
  {
   "cell_type": "markdown",
   "id": "e77ed840-74a1-46e5-8402-45be00c96902",
   "metadata": {},
   "source": [
    "Above version of frequent words is inefficient."
   ]
  },
  {
   "cell_type": "code",
   "execution_count": 3,
   "id": "29b746c3-8c53-4f67-9aab-405c7b2decc5",
   "metadata": {},
   "outputs": [],
   "source": [
    "# FrequencyTable(Text, k)\n",
    "#     freqMap ← empty map\n",
    "#     n ← |Text|\n",
    "#     for i ← 0 to n − k\n",
    "#         Pattern ← Text(i, k)\n",
    "#         if freqMap[Pattern] doesn't exist\n",
    "#             freqMap[Pattern]← 1\n",
    "#         else\n",
    "#            freqMap[pattern] ←freqMap[pattern]+1 \n",
    "#     return freqMap\n",
    "    \n",
    "# BetterFrequentWords(Text, k)\n",
    "#     FrequentPatterns ← an array of strings of length 0\n",
    "#     freqMap ← FrequencyTable(Text, k)\n",
    "#     max ← MaxMap(freqMap)\n",
    "#     for all strings Pattern in freqMap\n",
    "#         if freqMap[pattern] = max\n",
    "#             append Pattern to frequentPatterns\n",
    "#     return frequentPatterns"
   ]
  },
  {
   "cell_type": "markdown",
   "id": "6fcfefb1-4b4f-4467-bc71-68876f94c371",
   "metadata": {},
   "source": [
    "BetterFrequentWords is the final function, also need to write MaxMap.\n",
    "MaxMap should take a map of strings to integers as an input and return the maximum value of the map as output. It should work even if the values are all negative."
   ]
  },
  {
   "cell_type": "markdown",
   "id": "7fdfcfeb-42bf-44f0-aafd-9821eea0ea4a",
   "metadata": {},
   "source": [
    "# Actual code implementation"
   ]
  },
  {
   "cell_type": "code",
   "execution_count": 1,
   "id": "6d3c53c2-2f9e-4950-be0e-5398da9091cc",
   "metadata": {},
   "outputs": [],
   "source": [
    "def FrequencyTable(text, k):\n",
    "    \"\"\"Returns dictionary with the frequency counts of each overlapping k-mer.\"\"\"\n",
    "    freqMap = {}\n",
    "    n = len(text)\n",
    "    for i in range(0, n-k):\n",
    "        pattern = text[i:i+k]\n",
    "        if pattern not in freqMap:\n",
    "            freqMap[pattern] = 1\n",
    "        else:\n",
    "            freqMap[pattern] = freqMap[pattern] + 1\n",
    "    return freqMap\n",
    "\n",
    "\n",
    "def MaxMap(freqMap):\n",
    "    \"\"\"Returns max frequency from dictionary of k-mer frequencies.\"\"\"\n",
    "    max_value = max(freqMap.values())  # should work even if values negative, in current state probably doesn't\n",
    "    return max_value\n",
    "\n",
    "\n",
    "def BetterFrequentWords(text, k):\n",
    "    \"\"\"Returns the most frequent patterns of length k-mer.\"\"\"\n",
    "    frequentPatterns = []\n",
    "    freqMap = FrequencyTable(text, k)\n",
    "    max_value = MaxMap(freqMap)\n",
    "    for pattern in freqMap:\n",
    "        if freqMap[pattern] == max_value:\n",
    "            frequentPatterns.append(pattern)\n",
    "    return frequentPatterns"
   ]
  },
  {
   "cell_type": "code",
   "execution_count": 2,
   "id": "924296ab-38bb-4ff7-85a5-be9d8c5078f4",
   "metadata": {},
   "outputs": [
    {
     "data": {
      "text/plain": [
       "['TTCCCGTGGTTCC',\n",
       " 'TCCCGTGGTTCCC',\n",
       " 'CCCGTGGTTCCCG',\n",
       " 'CCGTGGTTCCCGT',\n",
       " 'CGTGGTTCCCGTG',\n",
       " 'GTGGTTCCCGTGG']"
      ]
     },
     "execution_count": 2,
     "metadata": {},
     "output_type": "execute_result"
    }
   ],
   "source": [
    "text_file = open('dataset_2_13.txt', 'r')\n",
    "text = text_file.readline()\n",
    "k = int(text_file.readline())  # convert string to int\n",
    "\n",
    "BetterFrequentWords(text, k)"
   ]
  },
  {
   "cell_type": "code",
   "execution_count": null,
   "id": "e3db926d-2635-407e-9355-71c56961613f",
   "metadata": {},
   "outputs": [],
   "source": []
  }
 ],
 "metadata": {
  "kernelspec": {
   "display_name": "Python [conda env:bioinformatics]",
   "language": "python",
   "name": "conda-env-bioinformatics-py"
  },
  "language_info": {
   "codemirror_mode": {
    "name": "ipython",
    "version": 3
   },
   "file_extension": ".py",
   "mimetype": "text/x-python",
   "name": "python",
   "nbconvert_exporter": "python",
   "pygments_lexer": "ipython3",
   "version": "3.6.13"
  }
 },
 "nbformat": 4,
 "nbformat_minor": 5
}
