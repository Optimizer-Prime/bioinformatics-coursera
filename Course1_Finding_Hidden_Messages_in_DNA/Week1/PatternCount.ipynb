{
 "cells": [
  {
   "cell_type": "code",
   "execution_count": 158,
   "id": "19649073-35cf-4416-9c3d-74ed80bf3db3",
   "metadata": {},
   "outputs": [],
   "source": [
    "def PatternCount(text, pattern):\n",
    "    \"\"\"Counts all overlapping instances of the given pattern in the given text.\"\"\"\n",
    "    text_len = len(text)\n",
    "    patt_len = len(pattern)\n",
    "    count = 0\n",
    "    for i in range(0, text_len-patt_len+1):\n",
    "        if text[i:i+patt_len] == pattern:\n",
    "            count = count + 1\n",
    "    return count"
   ]
  },
  {
   "cell_type": "code",
   "execution_count": 167,
   "id": "883fb0ec-9c0e-4082-a454-f1dcd9e6031c",
   "metadata": {},
   "outputs": [
    {
     "name": "stdout",
     "output_type": "stream",
     "text": [
      "ACGTCTGAGGCTGTACAAGGCTGTACCAGGCTGTTAAGGCTGTGAGGCTGTGAGGCTGTAAGGCTGTTTATGTGAGGCTGTCACGGAATTCAAAATCGAGGCTGTAGGCTGTTAAGGCTGTGAGTGAGGCTGTCCAGGCTGTACGAGGCTGTTATACAGGCTGTGCAAGGCTGTTTATAAGGCTGTTAGACAGGCTGTAAAGACAAGGCTGTGCAGGCTGTTTCAGGCTGTTCAGGCTGTAGGCTGTATCGAGGCTGTGGTGCTCCCAAAGAGGCTGTGAGGCTGTCGAAGGCTGTAGGCTGTGAGGCTGTAGGCTGTGGTTCTAAGGCTGTGTGAGGCTGTAAGGCTGTAGGCTGTGAAGGCTGTCAAGGCTGTGGAAGGCTGTGAACTAGGCTGTGTATGAGGCTGTGTAAGGCTGTAGGCTGTAGGCTGTTTACCAGGCTGTTACTCAGGCTGTGAGGCTGTCGGAGGCTGTGAGGCTGTTAGGCTGTCTCTTAGGCTGTGTAGGCTGTAAAGGCTGTTTCTTCTAGGCTGTTGACAACAGGCTGTACTGTAGGCTGTAGGCTGTCCCTCGAGGCTGTGCTAGGCTGTAGGCTGTAGGCTGTAGGCTGTAGGCTGTCAGGCTGTCGAAGGCTGTCGCCTAGGCTGTTAGGCTGTCAGGCTGTAGGCTGTGCCAAGGCTGTAGGCTGTTCCCCAGGCTGTAGGCTGTAAGGCTGTCAGGCTGTGAGGCTGTCAGGCTGTAACCCAGGAGGCTGTAGGCTGTCAGGCTGTAGGCTGTGTTCGAAGGCTGTCAGGCTGTAGGCTGTAGGCTGTCTAGGCTGTAAGGACCACAGGCTGTCAGGCTGTGAGGCTGTGCTGAGGCTGTGAGGCTGTAGGCTGTTAGGCTGTCGCACGCCCTTGCCATGACCGCTAGCAGTACAGGCTGTGTAGAGGCTGTAGGCTGTTGCGAAGGCTGTCTCGCTAGGCTGTTTGTCAAGGCTGTAGGCTGTAAGGCTGTCAGGCTGTAAAAGGCTGTCCCGAGGCTGTTGCCATATAG\n",
      "\n"
     ]
    }
   ],
   "source": [
    "text_file = open('dataset_2_6.txt', 'r')  # second line in the file is pattern\n",
    "text = text_file.readline()  # probably a better way to do this\n",
    "print(text)"
   ]
  },
  {
   "cell_type": "code",
   "execution_count": 168,
   "id": "5768cbc7-9597-4215-af1f-c77537788876",
   "metadata": {},
   "outputs": [
    {
     "data": {
      "text/plain": [
       "22"
      ]
     },
     "execution_count": 168,
     "metadata": {},
     "output_type": "execute_result"
    }
   ],
   "source": [
    "PatternCount(text, 'AGGCTGTAG')"
   ]
  },
  {
   "cell_type": "code",
   "execution_count": null,
   "id": "4bc8bfe6-f818-4a71-8343-c2502d6b1732",
   "metadata": {},
   "outputs": [],
   "source": []
  }
 ],
 "metadata": {
  "kernelspec": {
   "display_name": "Python [conda env:bioinformatics]",
   "language": "python",
   "name": "conda-env-bioinformatics-py"
  },
  "language_info": {
   "codemirror_mode": {
    "name": "ipython",
    "version": 3
   },
   "file_extension": ".py",
   "mimetype": "text/x-python",
   "name": "python",
   "nbconvert_exporter": "python",
   "pygments_lexer": "ipython3",
   "version": "3.6.13"
  }
 },
 "nbformat": 4,
 "nbformat_minor": 5
}
